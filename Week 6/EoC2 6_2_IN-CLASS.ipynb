{
 "cells": [
  {
   "cell_type": "markdown",
   "metadata": {
    "id": "XjFgWw51HwDo"
   },
   "source": [
    "## Section 1: Combining Data"
   ]
  },
  {
   "cell_type": "markdown",
   "metadata": {
    "id": "eBs1hZnTM6zy"
   },
   "source": [
    "Additional examples of [data wrangling in Pandas](https://pandas.pydata.org/Pandas_Cheat_Sheet.pdf)"
   ]
  },
  {
   "cell_type": "markdown",
   "metadata": {
    "id": "s3-QBbg8H2Al"
   },
   "source": [
    "### `pd.concat()`\n",
    "- **Purpose**: Combines multiple DataFrames into one.\n",
    "\n",
    "- **Key Parameter**:\n",
    "    - `ignore_index`: When set to `True` resets the index so that the resulting DataFrame has a new continuous index."
   ]
  },
  {
   "cell_type": "code",
   "execution_count": 1,
   "metadata": {
    "id": "Es0TZvqtEXVO"
   },
   "outputs": [],
   "source": [
    "import pandas as pd\n",
    "\n",
    "# Department 1 data\n",
    "df_dept1 = pd.DataFrame({\n",
    "    'EmployeeID': [101, 102, 103],\n",
    "    'Name': ['Alice', 'Bob', 'Michael'],\n",
    "    'Department': ['Sales', 'Sales', 'Sales'],\n",
    "    'Salary': [60000, 62000, 61000]\n",
    "})\n",
    "\n",
    "# Department 2 data\n",
    "df_dept2 = pd.DataFrame({\n",
    "    'EmployeeID': [104, 105],\n",
    "    'Name': ['David', 'Henry'],\n",
    "    'Department': ['Marketing', 'Marketing'],\n",
    "    'Salary': [65000, 67000]\n",
    "})"
   ]
  },
  {
   "cell_type": "markdown",
   "metadata": {
    "id": "6_45vWI-IHpa"
   },
   "source": [
    "### `rename()`\n",
    "- **Purpose**: Changes column names to more meaningful or standardized labels.\n",
    "- **Key Parameter**:\n",
    "    - `columns`: A dictionary mapping old column names to new names."
   ]
  },
  {
   "cell_type": "code",
   "execution_count": null,
   "metadata": {
    "id": "fd063VWFEerp"
   },
   "outputs": [],
   "source": [
    "# Rename columns to more descriptive names\n"
   ]
  },
  {
   "cell_type": "markdown",
   "metadata": {
    "id": "vHt823y8IUBw"
   },
   "source": [
    "### `sort_values()`\n",
    "- **Purpose**: Sorts the DataFrame by a specific column.\n",
    "- **Key Parameter**:\n",
    "    - `by`: Specifies the column(s) to sort by.\n",
    "    - `ascending`: When set to `False` sorts the data in descending order."
   ]
  },
  {
   "cell_type": "code",
   "execution_count": null,
   "metadata": {
    "id": "MED8LAAeEg-G"
   },
   "outputs": [],
   "source": [
    "# Sort by Annual_Salary in descending order\n"
   ]
  },
  {
   "cell_type": "markdown",
   "metadata": {
    "id": "8ZntpkBqIjrz"
   },
   "source": [
    "## Section 2: Method Chaining"
   ]
  },
  {
   "cell_type": "markdown",
   "metadata": {
    "id": "BF4iWf3OIlWD"
   },
   "source": [
    "### **Concept**: Combining several DataFrame operations into one continuous expression.\n",
    "\n",
    "### **Advantages**:\n",
    "- Improves readability and conciseness.\n",
    "- Reduces the need for intermediate variables.\n",
    "\n",
    "### Steps in this chain:\n",
    "- **Concatenation**: Merges the two department DataFrames.\n",
    "- **Renaming**: Standardizes column names.\n",
    "- **Sorting**: Orders the DataFrame by annual salary in descending order."
   ]
  },
  {
   "cell_type": "code",
   "execution_count": null,
   "metadata": {
    "id": "Vomj3s-3EyBM"
   },
   "outputs": [],
   "source": [
    "import pandas as pd\n",
    "\n",
    "# Department 1 data\n",
    "df_dept1 = pd.DataFrame({\n",
    "    'EmployeeID': [101, 102, 103],\n",
    "    'Name': ['Alice', 'Bob', 'Michael'],\n",
    "    'Department': ['Sales', 'Sales', 'Sales'],\n",
    "    'Salary': [60000, 62000, 61000]\n",
    "})\n",
    "\n",
    "# Department 2 data\n",
    "df_dept2 = pd.DataFrame({\n",
    "    'EmployeeID': [104, 105],\n",
    "    'Name': ['David', 'Henry'],\n",
    "    'Department': ['Marketing', 'Marketing'],\n",
    "    'Salary': [65000, 67000]\n",
    "})\n",
    "\n",
    "# Method chaining: Combine, rename, and sort in descending order of salary."
   ]
  },
  {
   "cell_type": "markdown",
   "metadata": {
    "id": "bv35Qs3iI6_j"
   },
   "source": [
    "## Group Activity: Cleaning an Untidy Sales Dataset Using Method Chaining"
   ]
  },
  {
   "cell_type": "markdown",
   "metadata": {
    "id": "E4t67jTUJDKq"
   },
   "source": [
    "### Method Chaining Instructions:\n",
    "- Remove duplicates.\n",
    "- Fill missing values with 0.\n",
    "- Reshape the DataFrame from wide to long format.\n",
    "- Sort the final DataFrame."
   ]
  },
  {
   "cell_type": "code",
   "execution_count": null,
   "metadata": {
    "id": "6ajePSEdE0qa"
   },
   "outputs": [],
   "source": [
    "import pandas as pd\n",
    "\n",
    "df_sales = pd.DataFrame({\n",
    "    'Product': [\n",
    "        'Widget A', 'Widget B', 'Widget A', 'Widget C',\n",
    "        'Widget B', 'Widget A', 'Widget D', 'Widget E',\n",
    "        'Widget C', 'Widget D', 'Widget B', 'Widget E'\n",
    "    ],\n",
    "    'Region': [\n",
    "        'North', 'South', 'North', 'East',\n",
    "        'South', 'North', 'West', 'East',\n",
    "        'Central', 'North', 'West', 'South'\n",
    "    ],\n",
    "    'Sales_Q1': [100, 200, 100, 150, None, 100, 180, 210, 140, 190, 205, 220],\n",
    "    'Sales_Q2': [110, None, 110, 160, 210, 110, 185, 220, 150, 200, 215, 230],\n",
    "    'Sales_Q3': [105, 205, 105, None, 215, 105, 175, 205, 145, 195, 210, 225],\n",
    "    'Sales_Q4': [115, 215, 115, 165, 225, None, 190, 215, 155, 205, 220, 235]\n",
    "})\n",
    "\n",
    "print(\"Expanded df_sales DataFrame:\")\n",
    "print(df_sales)\n",
    "\n",
    "\n",
    "# Method chaining: Clean the dataset in one pipeline.\n"
   ]
  },
  {
   "cell_type": "code",
   "execution_count": null,
   "metadata": {
    "id": "86hM-4tPKkZA"
   },
   "outputs": [],
   "source": [
    "# Create a pivot table that calculates the sum of sales per Product per Region\n"
   ]
  },
  {
   "cell_type": "markdown",
   "metadata": {
    "id": "7FhmsWn4KWmg"
   },
   "source": []
  }
 ],
 "metadata": {
  "colab": {
   "authorship_tag": "ABX9TyPxt7Ld7kBXfU0dOgI5OtUb",
   "provenance": [],
   "toc_visible": true
  },
  "kernelspec": {
   "display_name": "base",
   "language": "python",
   "name": "python3"
  },
  "language_info": {
   "codemirror_mode": {
    "name": "ipython",
    "version": 3
   },
   "file_extension": ".py",
   "mimetype": "text/x-python",
   "name": "python",
   "nbconvert_exporter": "python",
   "pygments_lexer": "ipython3",
   "version": "3.12.7"
  }
 },
 "nbformat": 4,
 "nbformat_minor": 0
}
